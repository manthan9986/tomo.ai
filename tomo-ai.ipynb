{
 "cells": [
  {
   "cell_type": "code",
   "execution_count": null,
   "metadata": {},
   "outputs": [],
   "source": [
    "from pdfminer.high_level import extract_text\n",
    "from langchain.text_splitter import RecursiveCharacterTextSplitter\n",
    "\n",
    "def text_extracter(path):\n",
    "    text = extract_text(path)\n",
    "    return text\n",
    "\n",
    "def text_chunk(text):\n",
    "    splitter = RecursiveCharacterTextSplitter(chunk_size=1000,chunk_overlap=200,separators = [\"\\n\\n\", \"\\n\", \".\", \" \", \"\"])\n",
    "    chunks = splitter.split_text(text)\n",
    "    return chunks\n",
    "\n",
    "extracted_text = text_extracter(\"/Users/pmanthan/Desktop/AIC /AICommunity_Assignment_25.pdf\")\n",
    "chunked_text = text_chunk(extracted_text)"
   ]
  },
  {
   "cell_type": "code",
   "execution_count": 24,
   "metadata": {},
   "outputs": [
    {
     "name": "stdout",
     "output_type": "stream",
     "text": [
      "<langchain_community.vectorstores.faiss.FAISS object at 0x324e3e020>\n"
     ]
    }
   ],
   "source": [
    "from langchain.embeddings import HuggingFaceEmbeddings\n",
    "from langchain.vectorstores import FAISS\n",
    "from langchain.docstore.document import Document\n",
    "\n",
    "def embed_store(chunks):\n",
    "  docs = [Document(page_content=chunk) for chunk in chunks]\n",
    "  embeddings = HuggingFaceEmbeddings(model_name=\"all-MiniLM-L6-v2\")\n",
    "  db = FAISS.from_documents(docs, embeddings) # FAISS - Facebook ai similarity search (full form for revision)\n",
    "  return db\n",
    "\n",
    "f = embed_store(chunked_text)\n",
    "print(f)\n"
   ]
  }
 ],
 "metadata": {
  "kernelspec": {
   "display_name": "aiml_env",
   "language": "python",
   "name": "python3"
  },
  "language_info": {
   "codemirror_mode": {
    "name": "ipython",
    "version": 3
   },
   "file_extension": ".py",
   "mimetype": "text/x-python",
   "name": "python",
   "nbconvert_exporter": "python",
   "pygments_lexer": "ipython3",
   "version": "3.10.13"
  }
 },
 "nbformat": 4,
 "nbformat_minor": 2
}
